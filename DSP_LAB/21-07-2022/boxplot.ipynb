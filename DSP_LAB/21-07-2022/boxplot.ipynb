{
 "cells": [
  {
   "cell_type": "code",
   "execution_count": 1,
   "id": "7174d32c",
   "metadata": {},
   "outputs": [
    {
     "data": {
      "text/plain": [
       "{'whiskers': [<matplotlib.lines.Line2D at 0x273eb36cbe0>,\n",
       "  <matplotlib.lines.Line2D at 0x273eb36ceb0>],\n",
       " 'caps': [<matplotlib.lines.Line2D at 0x273eb389280>,\n",
       "  <matplotlib.lines.Line2D at 0x273eb389490>],\n",
       " 'boxes': [<matplotlib.lines.Line2D at 0x273eb36ca30>],\n",
       " 'medians': [<matplotlib.lines.Line2D at 0x273eb389760>],\n",
       " 'fliers': [<matplotlib.lines.Line2D at 0x273eb389a30>],\n",
       " 'means': []}"
      ]
     },
     "execution_count": 1,
     "metadata": {},
     "output_type": "execute_result"
    },
    {
     "data": {
      "image/png": "[encoded data removed]",
      "text/plain": [
       "<Figure size 432x288 with 1 Axes>"
      ]
     },
     "metadata": {
      "needs_background": "light"
     },
     "output_type": "display_data"
    }
   ],
   "source": [
    "import matplotlib.pyplot as plt\n",
    "d=[1,2,3,4]\n",
    "plt.boxplot(d)"
   ]
  },
  {
   "cell_type": "code",
   "execution_count": null,
   "id": "de09b1fc",
   "metadata": {},
   "outputs": [],
   "source": []
  }
 ],
 "metadata": {
  "kernelspec": {
   "display_name": "Python 3 (ipykernel)",
   "language": "python",
   "name": "python3"
  },
  "language_info": {
   "codemirror_mode": {
    "name": "ipython",
    "version": 3
   },
   "file_extension": ".py",
   "mimetype": "text/x-python",
   "name": "python",
   "nbconvert_exporter": "python",
   "pygments_lexer": "ipython3",
   "version": "3.9.12"
  }
 },
 "nbformat": 4,
 "nbformat_minor": 5
}
