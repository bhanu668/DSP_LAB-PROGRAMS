{
 "cells": [
  {
   "cell_type": "code",
   "execution_count": 1,
   "id": "fe3a4f49",
   "metadata": {},
   "outputs": [
    {
     "data": {
      "text/plain": [
       "count    6.000000\n",
       "mean     3.500000\n",
       "std      1.870829\n",
       "min      1.000000\n",
       "25%      2.250000\n",
       "50%      3.500000\n",
       "75%      4.750000\n",
       "max      6.000000\n",
       "dtype: float64"
      ]
     },
     "execution_count": 1,
     "metadata": {},
     "output_type": "execute_result"
    }
   ],
   "source": [
    "import pandas as pd\n",
    "p1=pd.Series([1,2,3,4,5,6])\n",
    "p1.describe()"
   ]
  },
  {
   "cell_type": "code",
   "execution_count": 2,
   "id": "544d71c1",
   "metadata": {},
   "outputs": [
    {
     "data": {
      "text/plain": [
       "count      6.000000\n",
       "mean      35.833333\n",
       "std       80.437346\n",
       "min        1.000000\n",
       "25%        2.250000\n",
       "50%        3.500000\n",
       "75%        4.750000\n",
       "max      200.000000\n",
       "dtype: float64"
      ]
     },
     "execution_count": 2,
     "metadata": {},
     "output_type": "execute_result"
    }
   ],
   "source": [
    "p2=pd.Series([1,2,3,4,5,200])\n",
    "p2.describe()"
   ]
  },
  {
   "cell_type": "code",
   "execution_count": 3,
   "id": "196f8ada",
   "metadata": {},
   "outputs": [
    {
     "data": {
      "text/plain": [
       "count    6.000000\n",
       "mean     2.666667\n",
       "std      1.861899\n",
       "min      1.000000\n",
       "25%      1.250000\n",
       "50%      2.000000\n",
       "75%      4.250000\n",
       "max      5.000000\n",
       "dtype: float64"
      ]
     },
     "execution_count": 3,
     "metadata": {},
     "output_type": "execute_result"
    }
   ],
   "source": [
    "p3=pd.Series([1,1,2,2,5,5])\n",
    "p3.describe()"
   ]
  },
  {
   "cell_type": "code",
   "execution_count": 4,
   "id": "dd05efca",
   "metadata": {},
   "outputs": [
    {
     "data": {
      "text/plain": [
       "count      6.000000\n",
       "mean      20.000000\n",
       "std       39.217343\n",
       "min        2.000000\n",
       "25%        3.250000\n",
       "50%        4.500000\n",
       "75%        5.750000\n",
       "max      100.000000\n",
       "dtype: float64"
      ]
     },
     "execution_count": 4,
     "metadata": {},
     "output_type": "execute_result"
    }
   ],
   "source": [
    "p4=pd.Series([100,2,3,4,5,6])\n",
    "p4.describe()"
   ]
  },
  {
   "cell_type": "code",
   "execution_count": 5,
   "id": "04771607",
   "metadata": {},
   "outputs": [
    {
     "data": {
      "text/plain": [
       "3.5"
      ]
     },
     "execution_count": 5,
     "metadata": {},
     "output_type": "execute_result"
    }
   ],
   "source": [
    "p1.var()"
   ]
  },
  {
   "cell_type": "code",
   "execution_count": 6,
   "id": "28237a52",
   "metadata": {},
   "outputs": [
    {
     "data": {
      "text/plain": [
       "6470.166666666666"
      ]
     },
     "execution_count": 6,
     "metadata": {},
     "output_type": "execute_result"
    }
   ],
   "source": [
    "p2.var()"
   ]
  },
  {
   "cell_type": "code",
   "execution_count": 7,
   "id": "8f34a79a",
   "metadata": {},
   "outputs": [
    {
     "data": {
      "text/plain": [
       "3.4666666666666672"
      ]
     },
     "execution_count": 7,
     "metadata": {},
     "output_type": "execute_result"
    }
   ],
   "source": [
    "p3.var()"
   ]
  },
  {
   "cell_type": "code",
   "execution_count": 8,
   "id": "ffed22d0",
   "metadata": {},
   "outputs": [
    {
     "data": {
      "text/plain": [
       "1538.0"
      ]
     },
     "execution_count": 8,
     "metadata": {},
     "output_type": "execute_result"
    }
   ],
   "source": [
    "p4.var()"
   ]
  },
  {
   "cell_type": "code",
   "execution_count": 16,
   "id": "d7d7b31a",
   "metadata": {},
   "outputs": [
    {
     "data": {
      "text/plain": [
       "1.8708286933869707"
      ]
     },
     "execution_count": 16,
     "metadata": {},
     "output_type": "execute_result"
    }
   ],
   "source": [
    "p1.std()"
   ]
  },
  {
   "cell_type": "code",
   "execution_count": 17,
   "id": "fc57a297",
   "metadata": {},
   "outputs": [
    {
     "data": {
      "text/plain": [
       "count        5.000000\n",
       "mean     42219.000000\n",
       "std      52887.541066\n",
       "min         99.000000\n",
       "25%        999.000000\n",
       "50%       9999.000000\n",
       "75%      99999.000000\n",
       "max      99999.000000\n",
       "dtype: float64"
      ]
     },
     "execution_count": 17,
     "metadata": {},
     "output_type": "execute_result"
    }
   ],
   "source": [
    "p5=pd.Series([99,999,9999,99999,99999])\n",
    "p5.describe()"
   ]
  },
  {
   "cell_type": "code",
   "execution_count": 11,
   "id": "5844922f",
   "metadata": {},
   "outputs": [
    {
     "data": {
      "text/plain": [
       "count        5.000000\n",
       "mean     22239.000000\n",
       "std      43669.016476\n",
       "min         99.000000\n",
       "25%         99.000000\n",
       "50%        999.000000\n",
       "75%       9999.000000\n",
       "max      99999.000000\n",
       "dtype: float64"
      ]
     },
     "execution_count": 11,
     "metadata": {},
     "output_type": "execute_result"
    }
   ],
   "source": [
    "p6=pd.Series([99,999,9999,99999,99])\n",
    "p6.describe()"
   ]
  },
  {
   "cell_type": "code",
   "execution_count": 13,
   "id": "622091e6",
   "metadata": {},
   "outputs": [
    {
     "data": {
      "text/plain": [
       "count       5.000000\n",
       "mean     2259.000000\n",
       "std      4344.306619\n",
       "min        99.000000\n",
       "25%        99.000000\n",
       "50%        99.000000\n",
       "75%       999.000000\n",
       "max      9999.000000\n",
       "dtype: float64"
      ]
     },
     "execution_count": 13,
     "metadata": {},
     "output_type": "execute_result"
    }
   ],
   "source": [
    "p7=pd.Series([99,999,9999,99,99])\n",
    "p7.describe()\n"
   ]
  },
  {
   "cell_type": "code",
   "execution_count": 14,
   "id": "460322a9",
   "metadata": {},
   "outputs": [
    {
     "data": {
      "text/plain": [
       "18873000.0"
      ]
     },
     "execution_count": 14,
     "metadata": {},
     "output_type": "execute_result"
    }
   ],
   "source": [
    "p7.var()"
   ]
  },
  {
   "cell_type": "code",
   "execution_count": 18,
   "id": "12408008",
   "metadata": {},
   "outputs": [
    {
     "data": {
      "text/plain": [
       "count      5.000000\n",
       "mean     279.000000\n",
       "std      402.492236\n",
       "min       99.000000\n",
       "25%       99.000000\n",
       "50%       99.000000\n",
       "75%       99.000000\n",
       "max      999.000000\n",
       "dtype: float64"
      ]
     },
     "execution_count": 18,
     "metadata": {},
     "output_type": "execute_result"
    }
   ],
   "source": [
    "p8=pd.Series([99,999,99,99,99])\n",
    "p8.describe()"
   ]
  },
  {
   "cell_type": "code",
   "execution_count": 19,
   "id": "352d8832",
   "metadata": {},
   "outputs": [],
   "source": [
    "p9=pd.Series([99,99,99,99,99])"
   ]
  },
  {
   "cell_type": "code",
   "execution_count": 20,
   "id": "e8db8ab6",
   "metadata": {},
   "outputs": [
    {
     "data": {
      "text/plain": [
       "count     5.0\n",
       "mean     99.0\n",
       "std       0.0\n",
       "min      99.0\n",
       "25%      99.0\n",
       "50%      99.0\n",
       "75%      99.0\n",
       "max      99.0\n",
       "dtype: float64"
      ]
     },
     "execution_count": 20,
     "metadata": {},
     "output_type": "execute_result"
    }
   ],
   "source": [
    "p9.describe()"
   ]
  },
  {
   "cell_type": "code",
   "execution_count": null,
   "id": "24c462db",
   "metadata": {},
   "outputs": [],
   "source": []
  }
 ],
 "metadata": {
  "kernelspec": {
   "display_name": "Python 3 (ipykernel)",
   "language": "python",
   "name": "python3"
  },
  "language_info": {
   "codemirror_mode": {
    "name": "ipython",
    "version": 3
   },
   "file_extension": ".py",
   "mimetype": "text/x-python",
   "name": "python",
   "nbconvert_exporter": "python",
   "pygments_lexer": "ipython3",
   "version": "3.9.12"
  }
 },
 "nbformat": 4,
 "nbformat_minor": 5
}
