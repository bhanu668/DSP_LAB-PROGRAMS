{
 "cells": [
  {
   "cell_type": "code",
   "execution_count": 1,
   "id": "571e5ce4",
   "metadata": {},
   "outputs": [
    {
     "name": "stdout",
     "output_type": "stream",
     "text": [
      "   S.no Name Gender Dept        Salary\n",
      "0     1  aaa      M   CS  1.200000e+15\n",
      "1     2  bbb      F   EC  1.223300e+06\n",
      "2     3  ccc      F   ME  2.340000e+12\n",
      "3     4  ddd      M   EC  1.232000e+03\n",
      "4     5  eee      M   EE  3.400000e+05\n",
      "5     6  fff      F   CS  2.400000e+04\n",
      "6     7  ggg      F   EC  1.200000e+05\n"
     ]
    }
   ],
   "source": [
    "import pandas as pd\n",
    "df=pd.read_csv(\"GroupBy.csv\")\n",
    "print(df)"
   ]
  },
  {
   "cell_type": "code",
   "execution_count": 2,
   "id": "b21116b2",
   "metadata": {},
   "outputs": [
    {
     "name": "stdout",
     "output_type": "stream",
     "text": [
      "<pandas.core.groupby.generic.DataFrameGroupBy object at 0x000001CE69D1B9A0>\n"
     ]
    }
   ],
   "source": [
    "print(df.groupby([\"Gender\"]))"
   ]
  },
  {
   "cell_type": "code",
   "execution_count": 3,
   "id": "a8cb8224",
   "metadata": {},
   "outputs": [
    {
     "name": "stdout",
     "output_type": "stream",
     "text": [
      "{('F', 'CS'): [5], ('F', 'EC'): [1, 6], ('F', 'ME'): [2], ('M', 'CS'): [0], ('M', 'EC'): [3], ('M', 'EE'): [4]}\n"
     ]
    }
   ],
   "source": [
    "a=df.groupby([\"Gender\",\"Dept\"])\n",
    "print(a.groups)"
   ]
  },
  {
   "cell_type": "code",
   "execution_count": 4,
   "id": "6941159b",
   "metadata": {},
   "outputs": [
    {
     "name": "stdout",
     "output_type": "stream",
     "text": [
      "      S.no Name Gender        Salary\n",
      "Dept                                \n",
      "CS       6  fff      M  1.200000e+15\n",
      "EC       7  ggg      M  1.223300e+06\n",
      "EE       5  eee      M  3.400000e+05\n",
      "ME       3  ccc      F  2.340000e+12\n"
     ]
    }
   ],
   "source": [
    "print(df.groupby([\"Dept\"]).max())"
   ]
  },
  {
   "cell_type": "code",
   "execution_count": 5,
   "id": "dde555ee",
   "metadata": {},
   "outputs": [
    {
     "name": "stdout",
     "output_type": "stream",
     "text": [
      "{'CS': [0, 5], 'EC': [1, 3, 6], 'EE': [4], 'ME': [2]}\n"
     ]
    }
   ],
   "source": [
    "print(df.groupby([\"Dept\"]).groups)"
   ]
  },
  {
   "cell_type": "code",
   "execution_count": 6,
   "id": "56b7eb61",
   "metadata": {},
   "outputs": [
    {
     "name": "stdout",
     "output_type": "stream",
     "text": [
      "   S.no Name Gender Dept        Salary\n",
      "0     1  aaa      M   CS  1.200000e+15\n",
      "3     4  ddd      M   EC  1.232000e+03\n",
      "4     5  eee      M   EE  3.400000e+05\n"
     ]
    }
   ],
   "source": [
    "g=df.groupby([\"Gender\"])\n",
    "print(g.get_group(\"M\"))"
   ]
  },
  {
   "cell_type": "code",
   "execution_count": 7,
   "id": "483dd8e9",
   "metadata": {},
   "outputs": [
    {
     "data": {
      "text/plain": [
       "F    4\n",
       "M    3\n",
       "Name: Gender, dtype: int64"
      ]
     },
     "execution_count": 7,
     "metadata": {},
     "output_type": "execute_result"
    }
   ],
   "source": [
    "df[\"Gender\"].value_counts()"
   ]
  },
  {
   "cell_type": "code",
   "execution_count": 8,
   "id": "325642ae",
   "metadata": {},
   "outputs": [
    {
     "name": "stdout",
     "output_type": "stream",
     "text": [
      "{('CS', 'F'): [5], ('CS', 'M'): [0], ('EC', 'F'): [1, 6], ('EC', 'M'): [3], ('EE', 'M'): [4], ('ME', 'F'): [2]}\n"
     ]
    }
   ],
   "source": [
    "a=df.groupby([\"Dept\",\"Gender\"])\n",
    "print(a.groups)"
   ]
  },
  {
   "cell_type": "code",
   "execution_count": 9,
   "id": "5b70e7da",
   "metadata": {},
   "outputs": [
    {
     "name": "stdout",
     "output_type": "stream",
     "text": [
      "   S.no Name Gender Dept        Salary\n",
      "0     1  aaa      M   CS  1.200000e+15\n",
      "1     2  bbb      F   EC  1.223300e+06\n",
      "2     3  ccc      F   ME  2.340000e+12\n",
      "3     4  ddd      M   EC  1.232000e+03\n",
      "4     5  eee      M   EE  3.400000e+05\n",
      "5     6  fff      F   CS  2.400000e+04\n",
      "6     7  ggg      F   EC  1.200000e+05\n"
     ]
    }
   ],
   "source": [
    "print(df.to_string())"
   ]
  },
  {
   "cell_type": "code",
   "execution_count": null,
   "id": "3a1ae239",
   "metadata": {},
   "outputs": [],
   "source": []
  }
 ],
 "metadata": {
  "kernelspec": {
   "display_name": "Python 3 (ipykernel)",
   "language": "python",
   "name": "python3"
  },
  "language_info": {
   "codemirror_mode": {
    "name": "ipython",
    "version": 3
   },
   "file_extension": ".py",
   "mimetype": "text/x-python",
   "name": "python",
   "nbconvert_exporter": "python",
   "pygments_lexer": "ipython3",
   "version": "3.9.12"
  }
 },
 "nbformat": 4,
 "nbformat_minor": 5
}
